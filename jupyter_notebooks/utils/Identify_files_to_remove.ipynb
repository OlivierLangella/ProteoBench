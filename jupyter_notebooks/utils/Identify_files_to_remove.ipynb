{
 "cells": [
  {
   "cell_type": "code",
   "execution_count": 2,
   "id": "33003bc7",
   "metadata": {},
   "outputs": [],
   "source": [
    "import requests\n",
    "from bs4 import BeautifulSoup\n",
    "import pandas as pd\n"
   ]
  },
  {
   "cell_type": "code",
   "execution_count": 3,
   "id": "d830f7ae",
   "metadata": {},
   "outputs": [],
   "source": [
    "url = \"https://proteobench.cubimed.rub.de/datasets/\"\n",
    "\n",
    "response = requests.get(url)\n",
    "\n",
    "if response.status_code == 200:\n",
    "    html_content = response.text\n",
    "    \n",
    "\n",
    "    soup = BeautifulSoup(html_content, \"html.parser\")\n",
    "    \n",
    "    entries = []\n",
    "    for link in soup.find_all(\"a\"):\n",
    "        href = link.get(\"href\")\n",
    "        text = link.text.strip()\n",
    "        if href and text:\n",
    "            entries.append(text)\n",
    "else:\n",
    "    print(f\"Failed to retrieve the page. Status code: {response.status_code}\")"
   ]
  },
  {
   "cell_type": "code",
   "execution_count": 6,
   "id": "247f377a",
   "metadata": {},
   "outputs": [
    {
     "data": {
      "text/plain": [
       "['00e2f863939301a2a71178652972dad895b27520',\n",
       " '0132a468ec6ae51a527d82560ff4a40f832f975c',\n",
       " '0280a06fabdbe84746419d0810deae56e7ab2406',\n",
       " '0acc083d3e50884d151839d6e8495d668cb849ff',\n",
       " '0d696eb55d1ce3fdb4089b94aef1cb8c6be4934c',\n",
       " '1438823a0441d7a32c0d1095074cbc4a187ce2fb',\n",
       " '17c2e4a10ea55b30bcf7f75f55e6f312d40de871',\n",
       " '1bfa914c771321b285a9ca40d4aa538cb9fdc42e',\n",
       " '2408c6ee1a52eb2f9a25410428df30b0f655ad31',\n",
       " '254d6c77ce656888918e738772ad5f5f6f1543e4',\n",
       " '273e81ee74a5e47b791f1fa49c320ccd07639fa6',\n",
       " '2805f6b6d1fabd65448540bee743f2b05c1dda59',\n",
       " '2a5ef6191b8098757d490acf76bb9c2af5b89a39',\n",
       " '2c4eb3876b9d0a0511889a8d58048f39ed6f1d9c',\n",
       " '36b7b01b380f641722b3b34633bb53d72348eb80',\n",
       " '3bd27fcfd7013d81b578e850035874af14b1cc26',\n",
       " '3cffb02abcf3ce5950dae07bb94985e12d632da9',\n",
       " '4455fe37836eb6ae90f3592f214038c3a2b28b23',\n",
       " '45486140efcbe205e2485f1ef4d668ec3d79fb99',\n",
       " '484ac755785008733c8e83526cfc65a1e3031c62',\n",
       " '4b50085fa82695a0d0b67283f022aff106c0a983',\n",
       " '5dc44925b46df18a2799648b5f975a41ba8bf89f',\n",
       " '5dfc20b3a720fb08c3e9ce1a4827e962664f6338',\n",
       " '6295829948a64736c1c3da12f088ceb9941223b8',\n",
       " '7912158e0522a315917e20fe434966ca9a17192e',\n",
       " '7a1b33450db849167eac7f1ad2f96f25753e5484',\n",
       " '809d92711404fbf1022c6da297ff68185c33467c',\n",
       " '88dfa519f8ea30521e209ef1c005eee9ac38e555',\n",
       " '8b135d4710cd3381a2d68f263d6154f6cab07c28',\n",
       " '8cbc0bce20eee581ad10326e02a09dbc316c30e1',\n",
       " '8f4fa9a7dd1f44ac4ae7a7e7fb9b9606660f4578',\n",
       " '91a49761d9995c9973b7b9ee98e69275d730b1b1',\n",
       " '94c4c0b7d00761d24fdde05276053b087cb99ea1',\n",
       " '982740480e3e36433d6691e3588bc4c2acea4430',\n",
       " '9b100f109cf678f823604084c5cf8ba5e27fdb2f',\n",
       " '9d82889d62f08567cd3c96be3c4704febaef5b8f',\n",
       " 'a1140a31b414d7b3110ee9b9c0456cc4f1709782',\n",
       " 'a3d801fcb75c46b2e76fa7078ae0a004360ebe44',\n",
       " 'a6a55694e276a24a05b091b62eb4cdc1d3a2fac9',\n",
       " 'acbc759c3e21125392fa6dfa1d59524c208286f9',\n",
       " 'ae6c81d357992b94e43aaa248d28be663bafdf60',\n",
       " 'b5e94b673082b8dda1b0150cf506142a993c8e29',\n",
       " 'b5fddd9b5d27918e8d31ec07bcf599cbd214027a',\n",
       " 'd3b81753cf38033b89b78c06612007e059c7dc5b',\n",
       " 'd8db9ffd261d4e4f5810738c726453dc034b3789',\n",
       " 'dcfb0316d24e51357eaffc5f9e638bd28da609fe',\n",
       " 'e0ab1339a5354cb27d895ff252383ee4a3365b2e',\n",
       " 'e56b00f19ffc31232a697be71edb65a4df6936cc',\n",
       " 'e683472e109ece5b3e0996d8bef476ed0ad6dbdb',\n",
       " 'e69518aa474be08f1ce4200380e88ac573689517',\n",
       " 'e7e760bf0390ae959ccd927008dbe1050e195ed3',\n",
       " 'e8e80290fb48ff02de5ee54eb6b0114ff661bace',\n",
       " 'f2e5710834b6b9d07bb72e3b6601a390bf7992ba',\n",
       " 'f36a37ad4a1140497a3baabfaa22f0506c57f646',\n",
       " 'f4f23a743baef55ba419a1cf0e8dd67a4cb5b7ac',\n",
       " 'fd9834a584a2248fdf6ff35b3584092fa98e9f82',\n",
       " 'fdc2fffd886fe2a36722bfa85a418b09e6bc69a9']"
      ]
     },
     "execution_count": 6,
     "metadata": {},
     "output_type": "execute_result"
    }
   ],
   "source": [
    "remove_entries = [\"../\",\"fasta/\",\"raw_files/\",\"README.txt\"]\n",
    "entries = [v for v in entries if v not in remove_entries]\n",
    "entries = [v.rstrip(\"/\") for v in entries if v not in remove_entries]\n",
    "entries"
   ]
  },
  {
   "cell_type": "code",
   "execution_count": 11,
   "id": "67a8a84b",
   "metadata": {},
   "outputs": [
    {
     "name": "stdout",
     "output_type": "stream",
     "text": [
      "Failed to retrieve the repository contents. Status code: 404\n",
      "https://api.github.com/repos/Proteobench/Results_quant_peptidoform_DIA/contents/\n"
     ]
    }
   ],
   "source": [
    "repo_urls = [\n",
    "    \"https://api.github.com/repos/Proteobench/Results_quant_ion_DDA/contents/\",\n",
    "    \"https://api.github.com/repos/Proteobench/Results_quant_peptidoform_DIA/contents/\",\n",
    "    \"https://api.github.com/repos/Proteobench/Results_subcellprofile_DOMLFQ_protein_DIA_EXPL/contents/\",\n",
    "    \"https://api.github.com/repos/Proteobench/Results_quant_peptidoform_DDA/contents/\",\n",
    "    \"https://api.github.com/repos/Proteobench/Results_quant_ion_DIA_diaPASEF/contents/\",\n",
    "    \"https://api.github.com/repos/Proteobench/Results_quant_ion_DIA/contents/\",\n",
    "    \"https://api.github.com/repos/Proteobench/Results_quant_ion_DIA_singlecell/contents/\",\n",
    "]\n",
    "file_names = []\n",
    "\n",
    "for repo_url in repo_urls:\n",
    "    response = requests.get(repo_url)\n",
    "\n",
    "    if response.status_code == 200:\n",
    "        repo_contents = response.json()\n",
    "\n",
    "        for item in repo_contents:\n",
    "            file_name = item.get(\"name\")\n",
    "            if file_name:\n",
    "                file_names.append(file_name)    \n",
    "    else:\n",
    "        print(f\"Failed to retrieve the repository contents. Status code: {response.status_code}\")\n",
    "        print(repo_url)"
   ]
  },
  {
   "cell_type": "code",
   "execution_count": 16,
   "id": "86d306ee",
   "metadata": {},
   "outputs": [],
   "source": [
    "file_names = [v.replace(\".json\",\"\") for v in file_names if v.endswith(\".json\")]"
   ]
  },
  {
   "cell_type": "code",
   "execution_count": 18,
   "id": "6ce04e62",
   "metadata": {},
   "outputs": [
    {
     "name": "stdout",
     "output_type": "stream",
     "text": [
      "Should be deleted: \n"
     ]
    },
    {
     "data": {
      "text/plain": [
       "['0acc083d3e50884d151839d6e8495d668cb849ff',\n",
       " '2408c6ee1a52eb2f9a25410428df30b0f655ad31',\n",
       " '273e81ee74a5e47b791f1fa49c320ccd07639fa6',\n",
       " '2c4eb3876b9d0a0511889a8d58048f39ed6f1d9c',\n",
       " '484ac755785008733c8e83526cfc65a1e3031c62',\n",
       " '6295829948a64736c1c3da12f088ceb9941223b8',\n",
       " '8b135d4710cd3381a2d68f263d6154f6cab07c28',\n",
       " '9b100f109cf678f823604084c5cf8ba5e27fdb2f',\n",
       " 'a6a55694e276a24a05b091b62eb4cdc1d3a2fac9',\n",
       " 'e56b00f19ffc31232a697be71edb65a4df6936cc']"
      ]
     },
     "execution_count": 18,
     "metadata": {},
     "output_type": "execute_result"
    }
   ],
   "source": [
    "print(\"Should be deleted: \")\n",
    "[entry for entry in entries if entry not in file_names]"
   ]
  },
  {
   "cell_type": "code",
   "execution_count": null,
   "id": "ed31a93b",
   "metadata": {},
   "outputs": [],
   "source": []
  }
 ],
 "metadata": {
  "kernelspec": {
   "display_name": "Python 3 (ipykernel)",
   "language": "python",
   "name": "python3"
  },
  "language_info": {
   "codemirror_mode": {
    "name": "ipython",
    "version": 3
   },
   "file_extension": ".py",
   "mimetype": "text/x-python",
   "name": "python",
   "nbconvert_exporter": "python",
   "pygments_lexer": "ipython3",
   "version": "3.11.4"
  }
 },
 "nbformat": 4,
 "nbformat_minor": 5
}
